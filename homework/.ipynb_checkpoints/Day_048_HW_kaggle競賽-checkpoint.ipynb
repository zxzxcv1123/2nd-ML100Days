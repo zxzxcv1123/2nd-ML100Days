{
 "cells": [
  {
   "cell_type": "code",
   "execution_count": 69,
   "metadata": {},
   "outputs": [],
   "source": [
    "import numpy as np\n",
    "import pandas as pd\n",
    "from sklearn.metrics import accuracy_score"
   ]
  },
  {
   "cell_type": "code",
   "execution_count": 134,
   "metadata": {},
   "outputs": [],
   "source": [
    "path='C:/Users/user/Desktop/JupyterNotebook/DATA4/'\n",
    "train=pd.read_csv(path+'train.csv',header=None)\n",
    "train_label=pd.read_csv(path+'trainlabels.csv',header=None)\n",
    "test=pd.read_csv(path+'test.csv',header=None)"
   ]
  },
  {
   "cell_type": "markdown",
   "metadata": {},
   "source": [
    "#Preprocessing"
   ]
  },
  {
   "cell_type": "code",
   "execution_count": 135,
   "metadata": {},
   "outputs": [],
   "source": [
    "from sklearn.model_selection import train_test_split\n",
    "train_X,test_X,train_Y,test_Y=train_test_split(train,train_label,test_size=0.25,random_state=42)"
   ]
  },
  {
   "cell_type": "markdown",
   "metadata": {},
   "source": [
    "未調整的原始分數"
   ]
  },
  {
   "cell_type": "code",
   "execution_count": 136,
   "metadata": {
    "scrolled": true
   },
   "outputs": [
    {
     "name": "stdout",
     "output_type": "stream",
     "text": [
      "RandomForest: 0.868\n",
      "GradientBoosting: 0.884\n",
      "LogisticRegression: 0.816\n",
      "DecisionTree: 0.724\n",
      "KNN 0.892\n",
      "SVM 0.896\n"
     ]
    }
   ],
   "source": [
    "#RandomForest\n",
    "from sklearn.ensemble import RandomForestClassifier\n",
    "rfc=RandomForestClassifier(n_estimators=100,random_state=99)\n",
    "rfc.fit(train_X,train_Y.values.ravel()) #將y從(750,1)改成(750,)\n",
    "rfc_pred=rfc.predict(test_X)\n",
    "print('RandomForest:',accuracy_score(test_Y,rfc_pred))\n",
    "#GradientBoostingClassifier\n",
    "from sklearn.ensemble import GradientBoostingClassifier\n",
    "gbdt=GradientBoostingClassifier(n_estimators=100,random_state=99)\n",
    "gbdt.fit(train_X,train_Y.values.ravel())\n",
    "gbdt_pred=gbdt.predict(test_X)\n",
    "print('GradientBoosting:',accuracy_score(test_Y,gbdt_pred))\n",
    "#LogiticRegression\n",
    "from sklearn.linear_model import LogisticRegression\n",
    "logis=LogisticRegression(solver='saga')\n",
    "logis.fit(train_X,train_Y.values.ravel())\n",
    "logis_pred=logis.predict(test_X)\n",
    "print('LogisticRegression:',accuracy_score(test_Y,logis_pred))\n",
    "#DecisionTree\n",
    "from sklearn.tree import DecisionTreeClassifier\n",
    "tree=DecisionTreeClassifier()\n",
    "tree.fit(train_X,train_Y.values.ravel())\n",
    "tree_pred=tree.predict(test_X)\n",
    "print('DecisionTree:',accuracy_score(test_Y,tree_pred))\n",
    "#KNN\n",
    "from sklearn.neighbors import KNeighborsClassifier\n",
    "knn_model = KNeighborsClassifier()\n",
    "knn_model.fit(train_X,train_Y.values.ravel())\n",
    "knn_pred= knn_model.predict(test_X)\n",
    "print('KNN',accuracy_score(test_Y, knn_pred))\n",
    "#SVM\n",
    "from sklearn.svm import SVC\n",
    "svc_model = SVC(gamma = 'auto')\n",
    "svc_model.fit(train_X,train_Y.values.ravel())\n",
    "svc_predicted = svc_model.predict(test_X)\n",
    "print('SVM',accuracy_score(test_Y, svc_predicted))"
   ]
  },
  {
   "cell_type": "markdown",
   "metadata": {},
   "source": [
    "特徵縮放後分數並未較佳 因此省略"
   ]
  },
  {
   "cell_type": "code",
   "execution_count": 137,
   "metadata": {},
   "outputs": [],
   "source": [
    "#特徵篩選\n",
    "from sklearn.decomposition import PCA\n",
    "pca=PCA(n_components=12)\n",
    "pca.fit(train_X)\n",
    "train_X=pca.transform(train_X)\n",
    "test_X=pca.transform(test_X)"
   ]
  },
  {
   "cell_type": "code",
   "execution_count": 138,
   "metadata": {},
   "outputs": [
    {
     "name": "stdout",
     "output_type": "stream",
     "text": [
      "RandomForest: 0.904\n",
      "GradientBoosting: 0.896\n",
      "LogisticRegression: 0.832\n",
      "DecisionTree: 0.812\n",
      "KNN 0.912\n",
      "SVM 0.896\n"
     ]
    }
   ],
   "source": [
    "#RandomForest\n",
    "from sklearn.ensemble import RandomForestClassifier\n",
    "rfc=RandomForestClassifier(n_estimators=100,random_state=99)\n",
    "rfc.fit(train_X,train_Y.values.ravel()) #將y從(750,1)改成(750,)\n",
    "rfc_pred=rfc.predict(test_X)\n",
    "print('RandomForest:',accuracy_score(test_Y,rfc_pred))\n",
    "#GradientBoostingClassifier\n",
    "from sklearn.ensemble import GradientBoostingClassifier\n",
    "gbdt=GradientBoostingClassifier(n_estimators=100,random_state=99)\n",
    "gbdt.fit(train_X,train_Y.values.ravel())\n",
    "gbdt_pred=gbdt.predict(test_X)\n",
    "print('GradientBoosting:',accuracy_score(test_Y,gbdt_pred))\n",
    "#LogiticRegression\n",
    "from sklearn.linear_model import LogisticRegression\n",
    "logis=LogisticRegression(solver='saga')\n",
    "logis.fit(train_X,train_Y.values.ravel())\n",
    "logis_pred=logis.predict(test_X)\n",
    "print('LogisticRegression:',accuracy_score(test_Y,logis_pred))\n",
    "#DecisionTree\n",
    "from sklearn.tree import DecisionTreeClassifier\n",
    "tree=DecisionTreeClassifier()\n",
    "tree.fit(train_X,train_Y.values.ravel())\n",
    "tree_pred=tree.predict(test_X)\n",
    "print('DecisionTree:',accuracy_score(test_Y,tree_pred))\n",
    "#KNN\n",
    "from sklearn.neighbors import KNeighborsClassifier\n",
    "knn_model = KNeighborsClassifier()\n",
    "knn_model.fit(train_X,train_Y.values.ravel())\n",
    "knn_pred= knn_model.predict(test_X)\n",
    "print('KNN',accuracy_score(test_Y, knn_pred))\n",
    "#SVM\n",
    "from sklearn.svm import SVC\n",
    "svc_model = SVC(gamma = 'auto')\n",
    "svc_model.fit(train_X,train_Y.values.ravel())\n",
    "svc_predicted = svc_model.predict(test_X)\n",
    "print('SVM',accuracy_score(test_Y, svc_predicted))"
   ]
  },
  {
   "cell_type": "code",
   "execution_count": 139,
   "metadata": {},
   "outputs": [],
   "source": [
    "test=pca.transform(test)\n",
    "pred=knn_model.predict(test)\n"
   ]
  },
  {
   "cell_type": "code",
   "execution_count": 140,
   "metadata": {},
   "outputs": [],
   "source": [
    "pred=pd.DataFrame(pred)\n",
    "pred.index+=1\n",
    "pred.columns=['Solution']\n",
    "pred['Id']=np.arange(1,pred.shape[0]+1)\n",
    "pred=pred[['Id','Solution']]"
   ]
  },
  {
   "cell_type": "code",
   "execution_count": 142,
   "metadata": {},
   "outputs": [],
   "source": [
    "pred.to_csv('D48_Submission.csv',index=False)"
   ]
  }
 ],
 "metadata": {
  "kernelspec": {
   "display_name": "Python 3",
   "language": "python",
   "name": "python3"
  },
  "language_info": {
   "codemirror_mode": {
    "name": "ipython",
    "version": 3
   },
   "file_extension": ".py",
   "mimetype": "text/x-python",
   "name": "python",
   "nbconvert_exporter": "python",
   "pygments_lexer": "ipython3",
   "version": "3.7.1"
  }
 },
 "nbformat": 4,
 "nbformat_minor": 2
}
